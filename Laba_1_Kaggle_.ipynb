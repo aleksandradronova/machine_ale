{
  "nbformat": 4,
  "nbformat_minor": 0,
  "metadata": {
    "colab": {
      "provenance": []
    },
    "kernelspec": {
      "name": "python3",
      "display_name": "Python 3"
    },
    "language_info": {
      "name": "python"
    }
  },
  "cells": [
    {
      "cell_type": "markdown",
      "source": [
        "В качестве лабораторной работы по теме \"Ансамбли моделей\" предлагается участие в [соревановании на Kaggle](https://www.kaggle.com/competitions/ensembles-competition/leaderboard).\n"
      ],
      "metadata": {
        "id": "NaL6AhqhQr_h"
      }
    },
    {
      "cell_type": "code",
      "execution_count": null,
      "metadata": {
        "id": "0-4feJzrilbw"
      },
      "outputs": [],
      "source": [
        "import pandas as pd\n",
        "from sklearn.model_selection import train_test_split\n",
        "import matplotlib as plt\n",
        "import matplotlib.pyplot as plt\n",
        "%matplotlib inline"
      ]
    },
    {
      "cell_type": "markdown",
      "source": [
        "# **Основной вклад в общую работу: распарсить и очистить json, плюс провести лемматизацию текста, чтобы сохранить важные признаки**\n",
        "## Параметры тоже подбирала, но в итоге использовали другие при сабмите"
      ],
      "metadata": {
        "id": "LeJuVYVAhzB1"
      }
    },
    {
      "cell_type": "markdown",
      "source": [
        "Из-за кодировки распаршивала json в Jypiter Notebook почему-то)\n",
        "Аналогичный блок операций проделала для train\n",
        "```\n",
        "import pandas as pd\n",
        "import ast\n",
        "\n",
        "# Чтение CSV\n",
        "train = pd.read_csv('train_contest.csv')\n",
        "test = pd.read_csv('for_prediction.csv')\n",
        "\n",
        "# Преобразуем строку в словарь и достаем нужные поля\n",
        "test['city'] = test['area'].apply(lambda x: ast.literal_eval(x)['name'])\n",
        "test['empl'] = test['employer'].apply(lambda x: ast.literal_eval(x)['name'])\n",
        "test['type_vac'] = test['type'].apply(lambda x: ast.literal_eval(x)['id'])\n",
        "test['exper'] = test['experience'].apply(lambda x: ast.literal_eval(x)['id'])\n",
        "\n",
        "# Извлекаем все специализации в строку\n",
        "test['special'] = test['specializations'].apply(\n",
        "    lambda x: ', '.join([spec['name'] for spec in ast.literal_eval(x)]) if ast.literal_eval(x) else None\n",
        ")\n",
        "test['key'] = test['key_skills'].apply(\n",
        "    lambda x: ', '.join([spec['name'] for spec in ast.literal_eval(x)]) if ast.literal_eval(x) else None\n",
        ")\n",
        "# Удаляем ненужные столбцы\n",
        "test.drop(['area', 'type', 'experience', 'employer', 'specializations', 'snippet', 'address', 'alternate_url', 'url','key_skills', 'response_url','immediate_redirect_url','published_at', 'created_at'], axis=1, inplace=True)\n",
        "test.drop(['sort_point_distance','archived','insider_interview', 'relations','working_days', 'working_time_intervals','working_time_modes'], axis=1, inplace=True)\n",
        "test['timetable'] = test['schedule'].apply(lambda x: ast.literal_eval(x)['id'])\n",
        "test[test.select_dtypes(include='bool').columns] = test.select_dtypes(include='bool').astype(int)\n",
        "```\n",
        "\n"
      ],
      "metadata": {
        "id": "L7e99En0Y91m"
      }
    },
    {
      "cell_type": "code",
      "source": [
        "train= pd.read_excel('train.xlsx')\n",
        "test= pd.read_excel('predict.xlsx')"
      ],
      "metadata": {
        "id": "vhNdNd5qiq6d"
      },
      "execution_count": null,
      "outputs": []
    },
    {
      "cell_type": "code",
      "source": [
        "train.head()"
      ],
      "metadata": {
        "colab": {
          "base_uri": "https://localhost:8080/",
          "height": 469
        },
        "id": "O9q8MJCYnWlJ",
        "outputId": "ddca414f-7fe2-49f4-8703-2c3f44d4475d"
      },
      "execution_count": null,
      "outputs": [
        {
          "output_type": "execute_result",
          "data": {
            "text/plain": [
              "   premium                                  name  has_test  \\\n",
              "0        0                 Агент по недвижимости         0   \n",
              "1        0                 IT-специалист/ техник         0   \n",
              "2        0   Старший/ведущий инженер-программист         0   \n",
              "3        0  Эксперт / методист приемной комиссии         0   \n",
              "4        0                  Табельщица/табельщик         0   \n",
              "\n",
              "   response_letter_required  accept_temporary  \\\n",
              "0                         0                 0   \n",
              "1                         0                 0   \n",
              "2                         0                 0   \n",
              "3                         0                 0   \n",
              "4                         0                 0   \n",
              "\n",
              "                                         description               region  \\\n",
              "0  <p>Мы ищем людей, которым не достаточно того, ...      Санкт-Петербург   \n",
              "1  <ul> </ul> <p><em><strong>Навыки</strong></em>...    Иркутская область   \n",
              "2  <strong>Обязанности:</strong> <ul> <li>Разрабо...   Ростовская область   \n",
              "3  <p>Департамент информационных технологий РХТУ ...               Москва   \n",
              "4  <p><strong>Обязанности:</strong></p> <ul> <li>...  Саратовская область   \n",
              "\n",
              "   mean_salary             city                      empl type_vac  \\\n",
              "0     125000.0  Санкт-Петербург                      АРИН     open   \n",
              "1      50000.0           Братск                    СМП-38     open   \n",
              "2      80000.0   Ростов-на-Дону               САРМАТ, НПП     open   \n",
              "3     120000.0           Москва  РХТУ им. Д.И. Менделеева     open   \n",
              "4      15000.0          Энгельс   Сигнал, группа компаний     open   \n",
              "\n",
              "          exper                                            special  \\\n",
              "0  noExperience  Агент, Жилье, Начальный уровень, Мало опыта, П...   \n",
              "1  between1And3  Начальный уровень, Мало опыта, Системный админ...   \n",
              "2  between1And3  Программирование, Разработка, Системы управлен...   \n",
              "3  between1And3  Менеджмент продукта (Product manager), Управле...   \n",
              "4  between1And3                                     Машиностроение   \n",
              "\n",
              "                                                 key    timetable  \n",
              "0  Жилая недвижимость, Активные продажи, Подбор н...     flexible  \n",
              "1                                                NaN  flyInFlyOut  \n",
              "2                                 Linux, Bash, C/C++      fullDay  \n",
              "3  1С программирование, Обновление конфигурации 1...      fullDay  \n",
              "4  Составление отчетности, Работа с оргтехникой, ...      fullDay  "
            ],
            "text/html": [
              "<div>\n",
              "<style scoped>\n",
              "    .dataframe tbody tr th:only-of-type {\n",
              "        vertical-align: middle;\n",
              "    }\n",
              "\n",
              "    .dataframe tbody tr th {\n",
              "        vertical-align: top;\n",
              "    }\n",
              "\n",
              "    .dataframe thead th {\n",
              "        text-align: right;\n",
              "    }\n",
              "</style>\n",
              "<table border=\"1\" class=\"dataframe\">\n",
              "  <thead>\n",
              "    <tr style=\"text-align: right;\">\n",
              "      <th></th>\n",
              "      <th>premium</th>\n",
              "      <th>name</th>\n",
              "      <th>has_test</th>\n",
              "      <th>response_letter_required</th>\n",
              "      <th>accept_temporary</th>\n",
              "      <th>description</th>\n",
              "      <th>region</th>\n",
              "      <th>mean_salary</th>\n",
              "      <th>city</th>\n",
              "      <th>empl</th>\n",
              "      <th>type_vac</th>\n",
              "      <th>exper</th>\n",
              "      <th>special</th>\n",
              "      <th>key</th>\n",
              "      <th>timetable</th>\n",
              "    </tr>\n",
              "  </thead>\n",
              "  <tbody>\n",
              "    <tr>\n",
              "      <th>0</th>\n",
              "      <td>0</td>\n",
              "      <td>Агент по недвижимости</td>\n",
              "      <td>0</td>\n",
              "      <td>0</td>\n",
              "      <td>0</td>\n",
              "      <td>&lt;p&gt;Мы ищем людей, которым не достаточно того, ...</td>\n",
              "      <td>Санкт-Петербург</td>\n",
              "      <td>125000.0</td>\n",
              "      <td>Санкт-Петербург</td>\n",
              "      <td>АРИН</td>\n",
              "      <td>open</td>\n",
              "      <td>noExperience</td>\n",
              "      <td>Агент, Жилье, Начальный уровень, Мало опыта, П...</td>\n",
              "      <td>Жилая недвижимость, Активные продажи, Подбор н...</td>\n",
              "      <td>flexible</td>\n",
              "    </tr>\n",
              "    <tr>\n",
              "      <th>1</th>\n",
              "      <td>0</td>\n",
              "      <td>IT-специалист/ техник</td>\n",
              "      <td>0</td>\n",
              "      <td>0</td>\n",
              "      <td>0</td>\n",
              "      <td>&lt;ul&gt; &lt;/ul&gt; &lt;p&gt;&lt;em&gt;&lt;strong&gt;Навыки&lt;/strong&gt;&lt;/em&gt;...</td>\n",
              "      <td>Иркутская область</td>\n",
              "      <td>50000.0</td>\n",
              "      <td>Братск</td>\n",
              "      <td>СМП-38</td>\n",
              "      <td>open</td>\n",
              "      <td>between1And3</td>\n",
              "      <td>Начальный уровень, Мало опыта, Системный админ...</td>\n",
              "      <td>NaN</td>\n",
              "      <td>flyInFlyOut</td>\n",
              "    </tr>\n",
              "    <tr>\n",
              "      <th>2</th>\n",
              "      <td>0</td>\n",
              "      <td>Старший/ведущий инженер-программист</td>\n",
              "      <td>0</td>\n",
              "      <td>0</td>\n",
              "      <td>0</td>\n",
              "      <td>&lt;strong&gt;Обязанности:&lt;/strong&gt; &lt;ul&gt; &lt;li&gt;Разрабо...</td>\n",
              "      <td>Ростовская область</td>\n",
              "      <td>80000.0</td>\n",
              "      <td>Ростов-на-Дону</td>\n",
              "      <td>САРМАТ, НПП</td>\n",
              "      <td>open</td>\n",
              "      <td>between1And3</td>\n",
              "      <td>Программирование, Разработка, Системы управлен...</td>\n",
              "      <td>Linux, Bash, C/C++</td>\n",
              "      <td>fullDay</td>\n",
              "    </tr>\n",
              "    <tr>\n",
              "      <th>3</th>\n",
              "      <td>0</td>\n",
              "      <td>Эксперт / методист приемной комиссии</td>\n",
              "      <td>0</td>\n",
              "      <td>0</td>\n",
              "      <td>0</td>\n",
              "      <td>&lt;p&gt;Департамент информационных технологий РХТУ ...</td>\n",
              "      <td>Москва</td>\n",
              "      <td>120000.0</td>\n",
              "      <td>Москва</td>\n",
              "      <td>РХТУ им. Д.И. Менделеева</td>\n",
              "      <td>open</td>\n",
              "      <td>between1And3</td>\n",
              "      <td>Менеджмент продукта (Product manager), Управле...</td>\n",
              "      <td>1С программирование, Обновление конфигурации 1...</td>\n",
              "      <td>fullDay</td>\n",
              "    </tr>\n",
              "    <tr>\n",
              "      <th>4</th>\n",
              "      <td>0</td>\n",
              "      <td>Табельщица/табельщик</td>\n",
              "      <td>0</td>\n",
              "      <td>0</td>\n",
              "      <td>0</td>\n",
              "      <td>&lt;p&gt;&lt;strong&gt;Обязанности:&lt;/strong&gt;&lt;/p&gt; &lt;ul&gt; &lt;li&gt;...</td>\n",
              "      <td>Саратовская область</td>\n",
              "      <td>15000.0</td>\n",
              "      <td>Энгельс</td>\n",
              "      <td>Сигнал, группа компаний</td>\n",
              "      <td>open</td>\n",
              "      <td>between1And3</td>\n",
              "      <td>Машиностроение</td>\n",
              "      <td>Составление отчетности, Работа с оргтехникой, ...</td>\n",
              "      <td>fullDay</td>\n",
              "    </tr>\n",
              "  </tbody>\n",
              "</table>\n",
              "</div>"
            ]
          },
          "metadata": {},
          "execution_count": 3
        }
      ]
    },
    {
      "cell_type": "code",
      "source": [
        "import re\n",
        "import pymorphy3\n",
        "import pandas as pd\n",
        "from nltk.corpus import stopwords\n",
        "\n",
        "morph = pymorphy3.MorphAnalyzer()\n",
        "\n",
        "russian_stop_words = stopwords.words('russian')\n",
        "\n",
        "def clean_text(text):\n",
        "    if isinstance(text, str):\n",
        "        text = re.sub(r'[^а-яА-ЯёЁ\\s]', '', text.lower())\n",
        "\n",
        "        lemmatized_words = []\n",
        "        for word in text.split():\n",
        "            if word not in russian_stop_words:\n",
        "                lemma = morph.parse(word)[0].normal_form\n",
        "                lemmatized_words.append(lemma)\n",
        "        return ' '.join(lemmatized_words)\n",
        "    return text\n",
        "\n",
        "for column in train.select_dtypes(include=['object']).columns:\n",
        "    train[column] = train[column].apply(clean_text)"
      ],
      "metadata": {
        "id": "m9F3X6m-l8Al"
      },
      "execution_count": null,
      "outputs": []
    },
    {
      "cell_type": "code",
      "source": [
        "for column in test.select_dtypes(include=['object']).columns:\n",
        "    test[column] = test[column].apply(clean_text)"
      ],
      "metadata": {
        "id": "egsSKP7lwnPO"
      },
      "execution_count": null,
      "outputs": []
    },
    {
      "cell_type": "code",
      "source": [
        "train.info()"
      ],
      "metadata": {
        "colab": {
          "base_uri": "https://localhost:8080/"
        },
        "id": "Un2TCK6Awf7M",
        "outputId": "a816c6dd-5ccf-4ada-e9d8-d4af157e46c9"
      },
      "execution_count": null,
      "outputs": [
        {
          "output_type": "stream",
          "name": "stdout",
          "text": [
            "<class 'pandas.core.frame.DataFrame'>\n",
            "RangeIndex: 30072 entries, 0 to 30071\n",
            "Data columns (total 15 columns):\n",
            " #   Column                    Non-Null Count  Dtype  \n",
            "---  ------                    --------------  -----  \n",
            " 0   premium                   30072 non-null  int64  \n",
            " 1   name                      30072 non-null  object \n",
            " 2   has_test                  30072 non-null  int64  \n",
            " 3   response_letter_required  30072 non-null  int64  \n",
            " 4   accept_temporary          30072 non-null  int64  \n",
            " 5   description               30072 non-null  object \n",
            " 6   region                    30072 non-null  object \n",
            " 7   mean_salary               30072 non-null  float64\n",
            " 8   city                      30072 non-null  object \n",
            " 9   empl                      30072 non-null  object \n",
            " 10  type_vac                  30072 non-null  object \n",
            " 11  exper                     30072 non-null  object \n",
            " 12  special                   30072 non-null  object \n",
            " 13  key                       24866 non-null  object \n",
            " 14  timetable                 30072 non-null  object \n",
            "dtypes: float64(1), int64(4), object(10)\n",
            "memory usage: 3.4+ MB\n"
          ]
        }
      ]
    },
    {
      "cell_type": "code",
      "source": [
        "import pandas as pd\n",
        "from catboost import CatBoostRegressor\n",
        "from sklearn.model_selection import RandomizedSearchCV\n",
        "\n",
        "# Разделение признаков и целевой переменной\n",
        "X = train.drop(columns=['mean_salary'])\n",
        "y = train['mean_salary']\n",
        "categorical_features = X.select_dtypes(include=['object']).columns.tolist()\n",
        "\n",
        "for feature in categorical_features:\n",
        "    X[feature] = X[feature].fillna('missing')\n",
        "\n",
        "# Настройка модели\n",
        "model = CatBoostRegressor(verbose=0, cat_features=categorical_features)\n",
        "\n",
        "# Словарь параметров для подбора\n",
        "param_dist = {\n",
        "    'iterations': [300],\n",
        "    'learning_rate': [0.1, 0.05],\n",
        "    'depth': [6],\n",
        "    'l2_leaf_reg': [3, 5],\n",
        "    'border_count': [64]\n",
        "}\n",
        "\n",
        "search = RandomizedSearchCV(\n",
        "    estimator=model,\n",
        "    param_distributions=param_dist,\n",
        "    scoring='neg_mean_squared_error',  # Для регрессии используем MSE\n",
        "    n_iter=5,\n",
        "    cv=2,\n",
        "    verbose=2,\n",
        "    n_jobs=1,\n",
        "    random_state=42\n",
        ")\n",
        "\n",
        "# Подбор параметров\n",
        "search.fit(X, y)\n",
        "\n",
        "# Лучшая модель\n",
        "best_model = search.best_estimator_\n",
        "print(\"Параметры:\", search.best_params_)"
      ],
      "metadata": {
        "id": "RzrHTQeTdH3G",
        "colab": {
          "base_uri": "https://localhost:8080/",
          "height": 1000
        },
        "collapsed": true,
        "outputId": "f9602303-4f96-488d-8ad9-63908e4f24e9"
      },
      "execution_count": null,
      "outputs": [
        {
          "output_type": "stream",
          "name": "stderr",
          "text": [
            "D:\\Anaconda\\Lib\\site-packages\\sklearn\\model_selection\\_search.py:307: UserWarning: The total space of parameters 4 is smaller than n_iter=5. Running 4 iterations. For exhaustive searches, use GridSearchCV.\n",
            "  warnings.warn(\n"
          ]
        },
        {
          "output_type": "stream",
          "name": "stdout",
          "text": [
            "Fitting 2 folds for each of 4 candidates, totalling 8 fits\n",
            "[CV] END border_count=64, depth=6, iterations=300, l2_leaf_reg=3, learning_rate=0.1; total time=  17.8s\n",
            "[CV] END border_count=64, depth=6, iterations=300, l2_leaf_reg=3, learning_rate=0.1; total time=  17.8s\n",
            "[CV] END border_count=64, depth=6, iterations=300, l2_leaf_reg=3, learning_rate=0.05; total time=  17.4s\n",
            "[CV] END border_count=64, depth=6, iterations=300, l2_leaf_reg=3, learning_rate=0.05; total time=  16.5s\n",
            "[CV] END border_count=64, depth=6, iterations=300, l2_leaf_reg=5, learning_rate=0.1; total time=  16.7s\n",
            "[CV] END border_count=64, depth=6, iterations=300, l2_leaf_reg=5, learning_rate=0.1; total time=  17.6s\n",
            "[CV] END border_count=64, depth=6, iterations=300, l2_leaf_reg=5, learning_rate=0.05; total time=  16.5s\n",
            "[CV] END border_count=64, depth=6, iterations=300, l2_leaf_reg=5, learning_rate=0.05; total time=  16.0s\n",
            "Параметры: {'learning_rate': 0.1, 'l2_leaf_reg': 3, 'iterations': 300, 'depth': 6, 'border_count': 64}\n"
          ]
        },
        {
          "output_type": "error",
          "ename": "CatBoostError",
          "evalue": "Bad value for num_feature[non_default_doc_idx=0,feature_idx=2]=\"помощник маркетолог\": Cannot convert 'b'\\xd0\\xbf\\xd0\\xbe\\xd0\\xbc\\xd0\\xbe\\xd1\\x89\\xd0\\xbd\\xd0\\xb8\\xd0\\xba \\xd0\\xbc\\xd0\\xb0\\xd1\\x80\\xd0\\xba\\xd0\\xb5\\xd1\\x82\\xd0\\xbe\\xd0\\xbb\\xd0\\xbe\\xd0\\xb3'' to float",
          "traceback": [
            "\u001b[1;31m---------------------------------------------------------------------------\u001b[0m",
            "\u001b[1;31mTypeError\u001b[0m                                 Traceback (most recent call last)",
            "File \u001b[1;32m_catboost.pyx:2547\u001b[0m, in \u001b[0;36m_catboost.get_float_feature\u001b[1;34m()\u001b[0m\n",
            "File \u001b[1;32m_catboost.pyx:1226\u001b[0m, in \u001b[0;36m_catboost._FloatOrNan\u001b[1;34m()\u001b[0m\n",
            "File \u001b[1;32m_catboost.pyx:1021\u001b[0m, in \u001b[0;36m_catboost._FloatOrNanFromString\u001b[1;34m()\u001b[0m\n",
            "\u001b[1;31mTypeError\u001b[0m: Cannot convert 'b'\\xd0\\xbf\\xd0\\xbe\\xd0\\xbc\\xd0\\xbe\\xd1\\x89\\xd0\\xbd\\xd0\\xb8\\xd0\\xba \\xd0\\xbc\\xd0\\xb0\\xd1\\x80\\xd0\\xba\\xd0\\xb5\\xd1\\x82\\xd0\\xbe\\xd0\\xbb\\xd0\\xbe\\xd0\\xb3'' to float",
            "\nDuring handling of the above exception, another exception occurred:\n",
            "\u001b[1;31mCatBoostError\u001b[0m                             Traceback (most recent call last)",
            "Cell \u001b[1;32mIn[7], line 45\u001b[0m\n\u001b[0;32m     43\u001b[0m \u001b[38;5;66;03m# Предсказания на predict\u001b[39;00m\n\u001b[0;32m     44\u001b[0m X_test \u001b[38;5;241m=\u001b[39m test\u001b[38;5;241m.\u001b[39mdrop(columns\u001b[38;5;241m=\u001b[39m[\u001b[38;5;124m'\u001b[39m\u001b[38;5;124mid\u001b[39m\u001b[38;5;124m'\u001b[39m], errors\u001b[38;5;241m=\u001b[39m\u001b[38;5;124m'\u001b[39m\u001b[38;5;124mignore\u001b[39m\u001b[38;5;124m'\u001b[39m)\n\u001b[1;32m---> 45\u001b[0m predictions \u001b[38;5;241m=\u001b[39m best_model\u001b[38;5;241m.\u001b[39mpredict(X_test)\n\u001b[0;32m     47\u001b[0m \u001b[38;5;66;03m# Сохранение предсказаний в CSV\u001b[39;00m\n\u001b[0;32m     48\u001b[0m submission \u001b[38;5;241m=\u001b[39m pd\u001b[38;5;241m.\u001b[39mDataFrame({\n\u001b[0;32m     49\u001b[0m     \u001b[38;5;124m'\u001b[39m\u001b[38;5;124mid\u001b[39m\u001b[38;5;124m'\u001b[39m: test[\u001b[38;5;124m'\u001b[39m\u001b[38;5;124mid\u001b[39m\u001b[38;5;124m'\u001b[39m],\n\u001b[0;32m     50\u001b[0m     \u001b[38;5;124m'\u001b[39m\u001b[38;5;124mprediction\u001b[39m\u001b[38;5;124m'\u001b[39m: predictions\n\u001b[0;32m     51\u001b[0m })\n",
            "File \u001b[1;32mD:\\Anaconda\\Lib\\site-packages\\catboost\\core.py:5924\u001b[0m, in \u001b[0;36mCatBoostRegressor.predict\u001b[1;34m(self, data, prediction_type, ntree_start, ntree_end, thread_count, verbose, task_type)\u001b[0m\n\u001b[0;32m   5922\u001b[0m \u001b[38;5;28;01mif\u001b[39;00m prediction_type \u001b[38;5;129;01mis\u001b[39;00m \u001b[38;5;28;01mNone\u001b[39;00m:\n\u001b[0;32m   5923\u001b[0m     prediction_type \u001b[38;5;241m=\u001b[39m \u001b[38;5;28mself\u001b[39m\u001b[38;5;241m.\u001b[39m_get_default_prediction_type()\n\u001b[1;32m-> 5924\u001b[0m \u001b[38;5;28;01mreturn\u001b[39;00m \u001b[38;5;28mself\u001b[39m\u001b[38;5;241m.\u001b[39m_predict(data, prediction_type, ntree_start, ntree_end, thread_count, verbose, \u001b[38;5;124m'\u001b[39m\u001b[38;5;124mpredict\u001b[39m\u001b[38;5;124m'\u001b[39m, task_type)\n",
            "File \u001b[1;32mD:\\Anaconda\\Lib\\site-packages\\catboost\\core.py:2620\u001b[0m, in \u001b[0;36mCatBoost._predict\u001b[1;34m(self, data, prediction_type, ntree_start, ntree_end, thread_count, verbose, parent_method_name, task_type)\u001b[0m\n\u001b[0;32m   2618\u001b[0m \u001b[38;5;28;01mif\u001b[39;00m verbose \u001b[38;5;129;01mis\u001b[39;00m \u001b[38;5;28;01mNone\u001b[39;00m:\n\u001b[0;32m   2619\u001b[0m     verbose \u001b[38;5;241m=\u001b[39m \u001b[38;5;28;01mFalse\u001b[39;00m\n\u001b[1;32m-> 2620\u001b[0m data, data_is_single_object \u001b[38;5;241m=\u001b[39m \u001b[38;5;28mself\u001b[39m\u001b[38;5;241m.\u001b[39m_process_predict_input_data(data, parent_method_name, thread_count)\n\u001b[0;32m   2621\u001b[0m \u001b[38;5;28mself\u001b[39m\u001b[38;5;241m.\u001b[39m_validate_prediction_type(prediction_type)\n\u001b[0;32m   2623\u001b[0m predictions \u001b[38;5;241m=\u001b[39m \u001b[38;5;28mself\u001b[39m\u001b[38;5;241m.\u001b[39m_base_predict(data, prediction_type, ntree_start, ntree_end, thread_count, verbose, task_type)\n",
            "File \u001b[1;32mD:\\Anaconda\\Lib\\site-packages\\catboost\\core.py:2600\u001b[0m, in \u001b[0;36mCatBoost._process_predict_input_data\u001b[1;34m(self, data, parent_method_name, thread_count, label)\u001b[0m\n\u001b[0;32m   2598\u001b[0m is_single_object \u001b[38;5;241m=\u001b[39m _is_data_single_object(data)\n\u001b[0;32m   2599\u001b[0m \u001b[38;5;28;01mif\u001b[39;00m \u001b[38;5;129;01mnot\u001b[39;00m \u001b[38;5;28misinstance\u001b[39m(data, Pool):\n\u001b[1;32m-> 2600\u001b[0m     data \u001b[38;5;241m=\u001b[39m Pool(\n\u001b[0;32m   2601\u001b[0m         data\u001b[38;5;241m=\u001b[39m[data] \u001b[38;5;28;01mif\u001b[39;00m is_single_object \u001b[38;5;28;01melse\u001b[39;00m data,\n\u001b[0;32m   2602\u001b[0m         label\u001b[38;5;241m=\u001b[39mlabel,\n\u001b[0;32m   2603\u001b[0m         cat_features\u001b[38;5;241m=\u001b[39m\u001b[38;5;28mself\u001b[39m\u001b[38;5;241m.\u001b[39m_get_cat_feature_indices() \u001b[38;5;28;01mif\u001b[39;00m \u001b[38;5;129;01mnot\u001b[39;00m \u001b[38;5;28misinstance\u001b[39m(data, FeaturesData) \u001b[38;5;28;01melse\u001b[39;00m \u001b[38;5;28;01mNone\u001b[39;00m,\n\u001b[0;32m   2604\u001b[0m         text_features\u001b[38;5;241m=\u001b[39m\u001b[38;5;28mself\u001b[39m\u001b[38;5;241m.\u001b[39m_get_text_feature_indices() \u001b[38;5;28;01mif\u001b[39;00m \u001b[38;5;129;01mnot\u001b[39;00m \u001b[38;5;28misinstance\u001b[39m(data, FeaturesData) \u001b[38;5;28;01melse\u001b[39;00m \u001b[38;5;28;01mNone\u001b[39;00m,\n\u001b[0;32m   2605\u001b[0m         embedding_features\u001b[38;5;241m=\u001b[39m\u001b[38;5;28mself\u001b[39m\u001b[38;5;241m.\u001b[39m_get_embedding_feature_indices() \u001b[38;5;28;01mif\u001b[39;00m \u001b[38;5;129;01mnot\u001b[39;00m \u001b[38;5;28misinstance\u001b[39m(data, FeaturesData) \u001b[38;5;28;01melse\u001b[39;00m \u001b[38;5;28;01mNone\u001b[39;00m,\n\u001b[0;32m   2606\u001b[0m         thread_count\u001b[38;5;241m=\u001b[39mthread_count\n\u001b[0;32m   2607\u001b[0m     )\n\u001b[0;32m   2608\u001b[0m \u001b[38;5;28;01mreturn\u001b[39;00m data, is_single_object\n",
            "File \u001b[1;32mD:\\Anaconda\\Lib\\site-packages\\catboost\\core.py:855\u001b[0m, in \u001b[0;36mPool.__init__\u001b[1;34m(self, data, label, cat_features, text_features, embedding_features, embedding_features_data, column_description, pairs, graph, delimiter, has_header, ignore_csv_quoting, weight, group_id, group_weight, subgroup_id, pairs_weight, baseline, timestamp, feature_names, feature_tags, thread_count, log_cout, log_cerr, data_can_be_none)\u001b[0m\n\u001b[0;32m    849\u001b[0m         \u001b[38;5;28;01mif\u001b[39;00m \u001b[38;5;28misinstance\u001b[39m(feature_names, PATH_TYPES):\n\u001b[0;32m    850\u001b[0m             \u001b[38;5;28;01mraise\u001b[39;00m CatBoostError(\n\u001b[0;32m    851\u001b[0m                 \u001b[38;5;124m\"\u001b[39m\u001b[38;5;124mfeature_names must be None or have non-string type when the pool is created from \u001b[39m\u001b[38;5;124m\"\u001b[39m\n\u001b[0;32m    852\u001b[0m                 \u001b[38;5;124m\"\u001b[39m\u001b[38;5;124mpython objects.\u001b[39m\u001b[38;5;124m\"\u001b[39m\n\u001b[0;32m    853\u001b[0m             )\n\u001b[1;32m--> 855\u001b[0m         \u001b[38;5;28mself\u001b[39m\u001b[38;5;241m.\u001b[39m_init(data, label, cat_features, text_features, embedding_features, embedding_features_data, pairs, graph, weight,\n\u001b[0;32m    856\u001b[0m                    group_id, group_weight, subgroup_id, pairs_weight, baseline, timestamp, feature_names, feature_tags, thread_count)\n\u001b[0;32m    857\u001b[0m \u001b[38;5;28;01melif\u001b[39;00m \u001b[38;5;129;01mnot\u001b[39;00m data_can_be_none:\n\u001b[0;32m    858\u001b[0m     \u001b[38;5;28;01mraise\u001b[39;00m CatBoostError(\u001b[38;5;124m\"\u001b[39m\u001b[38;5;124m'\u001b[39m\u001b[38;5;124mdata\u001b[39m\u001b[38;5;124m'\u001b[39m\u001b[38;5;124m parameter can\u001b[39m\u001b[38;5;124m'\u001b[39m\u001b[38;5;124mt be None\u001b[39m\u001b[38;5;124m\"\u001b[39m)\n",
            "File \u001b[1;32mD:\\Anaconda\\Lib\\site-packages\\catboost\\core.py:1491\u001b[0m, in \u001b[0;36mPool._init\u001b[1;34m(self, data, label, cat_features, text_features, embedding_features, embedding_features_data, pairs, graph, weight, group_id, group_weight, subgroup_id, pairs_weight, baseline, timestamp, feature_names, feature_tags, thread_count)\u001b[0m\n\u001b[0;32m   1489\u001b[0m \u001b[38;5;28;01mif\u001b[39;00m feature_tags \u001b[38;5;129;01mis\u001b[39;00m \u001b[38;5;129;01mnot\u001b[39;00m \u001b[38;5;28;01mNone\u001b[39;00m:\n\u001b[0;32m   1490\u001b[0m     feature_tags \u001b[38;5;241m=\u001b[39m \u001b[38;5;28mself\u001b[39m\u001b[38;5;241m.\u001b[39m_check_transform_tags(feature_tags, feature_names)\n\u001b[1;32m-> 1491\u001b[0m \u001b[38;5;28mself\u001b[39m\u001b[38;5;241m.\u001b[39m_init_pool(data, label, cat_features, text_features, embedding_features, embedding_features_data, pairs, graph, weight,\n\u001b[0;32m   1492\u001b[0m                 group_id, group_weight, subgroup_id, pairs_weight, baseline, timestamp, feature_names, feature_tags, thread_count)\n",
            "File \u001b[1;32m_catboost.pyx:4339\u001b[0m, in \u001b[0;36m_catboost._PoolBase._init_pool\u001b[1;34m()\u001b[0m\n",
            "File \u001b[1;32m_catboost.pyx:4391\u001b[0m, in \u001b[0;36m_catboost._PoolBase._init_pool\u001b[1;34m()\u001b[0m\n",
            "File \u001b[1;32m_catboost.pyx:4200\u001b[0m, in \u001b[0;36m_catboost._PoolBase._init_features_order_layout_pool\u001b[1;34m()\u001b[0m\n",
            "File \u001b[1;32m_catboost.pyx:3127\u001b[0m, in \u001b[0;36m_catboost._set_features_order_data_pd_data_frame\u001b[1;34m()\u001b[0m\n",
            "File \u001b[1;32m_catboost.pyx:2591\u001b[0m, in \u001b[0;36m_catboost.create_num_factor_data\u001b[1;34m()\u001b[0m\n",
            "File \u001b[1;32m_catboost.pyx:2549\u001b[0m, in \u001b[0;36m_catboost.get_float_feature\u001b[1;34m()\u001b[0m\n",
            "\u001b[1;31mCatBoostError\u001b[0m: Bad value for num_feature[non_default_doc_idx=0,feature_idx=2]=\"помощник маркетолог\": Cannot convert 'b'\\xd0\\xbf\\xd0\\xbe\\xd0\\xbc\\xd0\\xbe\\xd1\\x89\\xd0\\xbd\\xd0\\xb8\\xd0\\xba \\xd0\\xbc\\xd0\\xb0\\xd1\\x80\\xd0\\xba\\xd0\\xb5\\xd1\\x82\\xd0\\xbe\\xd0\\xbb\\xd0\\xbe\\xd0\\xb3'' to float"
          ]
        }
      ]
    },
    {
      "cell_type": "markdown",
      "source": [
        "Параметры: **{'learning_rate': 0.1, 'l2_leaf_reg': 3, 'iterations': 300, 'depth': 6, 'border_count': 64}**"
      ],
      "metadata": {
        "id": "esY2cVhPchbJ"
      }
    },
    {
      "cell_type": "code",
      "source": [
        "X = train.drop(columns=['mean_salary'], errors='ignore')\n",
        "y = train['mean_salary']\n",
        "\n",
        "cat_features = X.select_dtypes(include=['object', 'category']).columns.tolist()\n",
        "for col in cat_features:\n",
        "    X[col] = X[col].astype(str).fillna('missing').astype('category')\n",
        "\n",
        "\n",
        "train_pool = Pool(data=X, label=y, cat_features=cat_features)\n",
        "model = CatBoostRegressor(\n",
        "    learning_rate=0.1,\n",
        "    l2_leaf_reg=3,\n",
        "    iterations=300,\n",
        "    depth=6,\n",
        "    border_count=64,\n",
        "    cat_features=cat_features,\n",
        "    verbose=50\n",
        ")\n",
        "\n",
        "model.fit(train_pool)"
      ],
      "metadata": {
        "colab": {
          "base_uri": "https://localhost:8080/"
        },
        "id": "l_ynMaDXgF_n",
        "outputId": "3443ecb0-e7de-466d-99fc-1a2daff9fc80"
      },
      "execution_count": null,
      "outputs": [
        {
          "output_type": "stream",
          "name": "stdout",
          "text": [
            "0:\tlearn: 101423.7733203\ttotal: 55.7ms\tremaining: 16.7s\n",
            "50:\tlearn: 76953.3142046\ttotal: 3.17s\tremaining: 15.5s\n",
            "100:\tlearn: 74490.8446523\ttotal: 6.49s\tremaining: 12.8s\n",
            "150:\tlearn: 72834.9491767\ttotal: 9.7s\tremaining: 9.57s\n",
            "200:\tlearn: 71512.1530893\ttotal: 13s\tremaining: 6.43s\n",
            "250:\tlearn: 70362.6298456\ttotal: 16.2s\tremaining: 3.16s\n",
            "299:\tlearn: 69375.8294791\ttotal: 18.7s\tremaining: 0us\n"
          ]
        },
        {
          "output_type": "execute_result",
          "data": {
            "text/plain": [
              "<catboost.core.CatBoostRegressor at 0x19e87748250>"
            ]
          },
          "metadata": {},
          "execution_count": 26
        }
      ]
    },
    {
      "cell_type": "code",
      "source": [
        "X_test = test.drop(columns=['Id'], errors='ignore')\n",
        "\n",
        "for col in cat_features:\n",
        "    if col in X_test.columns:\n",
        "        X_test[col] = X_test[col].astype(str).fillna('missing').astype('category')\n",
        "\n",
        "test_pool = Pool(data=X_test, cat_features=cat_features)\n",
        "\n",
        "predictions = model.predict(test_pool)\n",
        "\n",
        "submission = pd.DataFrame({\n",
        "    'id': test['Id'],\n",
        "    'prediction': predictions\n",
        "})\n",
        "submission.to_csv('submission.csv', index=False)"
      ],
      "metadata": {
        "id": "7GBQKzaYgOcv"
      },
      "execution_count": null,
      "outputs": []
    }
  ]
}